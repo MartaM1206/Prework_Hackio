{
 "cells": [
  {
   "cell_type": "markdown",
   "metadata": {},
   "source": [
    "<div style=\"text-align: center;\">\n",
    "  <img src=\"https://github.com/Hack-io-Data/Imagenes/blob/main/01-LogosHackio/logo_celeste@4x.png?raw=true\" alt=\"esquema\" />\n",
    "</div>\n"
   ]
  },
  {
   "cell_type": "markdown",
   "metadata": {},
   "source": [
    "En este ejercicio, se te pedirá que escribas un programa en Python que utilice condicionales para determinar el monto final de una compra en una tienda en línea, después de aplicar un descuento. El programa debe hacer lo siguiente:\n",
    "\n",
    "1. Solicita al usuario que ingrese el precio original de un artículo.\n",
    "\n",
    "2. Pregunta al usuario si tiene un cupón de descuento (respuesta sí o no).\n",
    "\n",
    "3. Si el usuario responde que sí, solicita que ingrese el valor del cupón de descuento.\n",
    "\n",
    "4. Aplica el descuento al precio original del artículo, siempre y cuando el valor del cupón sea válido (es decir, mayor a cero). Por ejemplo, descuento de 15€. \n",
    "\n",
    "5. Muestra el precio final de la compra, teniendo en cuenta el descuento aplicado o sin él. \n",
    "\n",
    "6. Recuerda utilizar estructuras de control de flujo como if, elif y else para llevar a cabo estas acciones en tu programa de Python."
   ]
  },
  {
   "cell_type": "code",
   "execution_count": 48,
   "metadata": {},
   "outputs": [
    {
     "name": "stdout",
     "output_type": "stream",
     "text": [
      "El precio original del artículo es 199.99 euros\n",
      "El valor del cupón de descuento es 15.0 euros\n",
      "El precio con descuento es 184.99 euros\n"
     ]
    }
   ],
   "source": [
    "precio = float(input(\"Ingresa el precio del artículo\"))\n",
    "print(f\"El precio original del artículo es {precio} euros\")\n",
    "descuento = input(\"¿Tienes un cupón de descuento? (Escribe sí o no)\")\n",
    "if descuento == \"no\":\n",
    "    print(\"No tienes cupón de descuento\")\n",
    "    valor_descuento = 0\n",
    "elif descuento == \"sí\":\n",
    "    valor_descuento = float(input(\"Ingresa el valor del cupón de descuento\"))\n",
    "    print(f\"El valor del cupón de descuento es {valor_descuento} euros\")\n",
    "else: \n",
    "    print(\"Respuesta no válida\")\n",
    "\n",
    "if valor_descuento < 0:\n",
    "    print(\"Cupón no válido\")\n",
    "else:\n",
    "    precio_descontado = round((precio - valor_descuento),2)\n",
    "    print(f\"El precio con descuento es {precio_descontado} euros\")"
   ]
  },
  {
   "cell_type": "markdown",
   "metadata": {},
   "source": [
    "Modifica el programa anterior para que el usuario ingrese un porcentaje de descuento en lugar de un valor fijo (por ejemplo, 30%). Aplica el descuento en base al porcentaje ingresado."
   ]
  },
  {
   "cell_type": "code",
   "execution_count": 49,
   "metadata": {},
   "outputs": [
    {
     "name": "stdout",
     "output_type": "stream",
     "text": [
      "El precio original del artículo es 99.99 euros\n",
      "El porcentaje de descuento es 25.0 %\n",
      "El precio con descuento es 74.99 euros\n"
     ]
    }
   ],
   "source": [
    "precio = float(input(\"Ingresa el precio del artículo\"))\n",
    "print(f\"El precio original del artículo es {precio} euros\")\n",
    "descuento = input(\"¿Tienes un cupón de descuento? (Escribe sí o no)\")\n",
    "if descuento == \"no\":\n",
    "    print(\"No tienes cupón de descuento\")\n",
    "    valor_descuento = 0\n",
    "elif descuento == \"sí\":\n",
    "    porcentaje_descuento = float(input(\"Ingresa el porcentaje de descuento\"))\n",
    "    print(f\"El porcentaje de descuento es {porcentaje_descuento} %\")\n",
    "    valor_descuento = porcentaje_descuento/100\n",
    "else: \n",
    "    print(\"Respuesta no válida\")\n",
    "\n",
    "precio_descontado = round((precio * (1-valor_descuento)),2)\n",
    "print(f\"El precio con descuento es {precio_descontado} euros\")"
   ]
  },
  {
   "cell_type": "markdown",
   "metadata": {},
   "source": [
    "Modifica el programa anterior agregando un límite al descuento, donde el descuento mínimo sea del 5% y el máximo del 50%. Si el usuario ingresa un porcentaje fuera de este rango, notifíquele y aplique el descuento mínimo o máximo según sea el caso."
   ]
  },
  {
   "cell_type": "code",
   "execution_count": 52,
   "metadata": {},
   "outputs": [
    {
     "name": "stdout",
     "output_type": "stream",
     "text": [
      "El precio original del artículo es 44.0 euros\n",
      "Has ingresado 70.0. El descuento mínimo es del 50%. Se aplicará este descuento\n",
      "El porcentaje de descuento es 50 %\n",
      "El precio con descuento es 22.0 euros\n"
     ]
    }
   ],
   "source": [
    "precio = float(input(\"Ingresa el precio del artículo\"))\n",
    "print(f\"El precio original del artículo es {precio} euros\")\n",
    "descuento = input(\"¿Tienes un cupón de descuento? (Escribe sí o no)\")\n",
    "if descuento == \"no\":\n",
    "    print(\"No tienes cupón de descuento\")\n",
    "    porcentaje_descuento = 0\n",
    "elif descuento == \"sí\":\n",
    "    porcentaje_descuento = float(input(\"Ingresa el valor porcentaje de descuento\"))\n",
    "    if porcentaje_descuento < 5:\n",
    "        print(f\"Has ingresado {porcentaje_descuento}. El descuento mínimo es del 5%. Se aplicará este descuento\")\n",
    "        porcentaje_descuento = 5\n",
    "        print(f\"El porcentaje de descuento es {porcentaje_descuento} %\")\n",
    "    elif porcentaje_descuento > 50:\n",
    "        print(f\"Has ingresado {porcentaje_descuento}. El descuento mínimo es del 50%. Se aplicará este descuento\")\n",
    "        porcentaje_descuento = 50\n",
    "        print(f\"El porcentaje de descuento es {porcentaje_descuento} %\")\n",
    "    valor_descuento = porcentaje_descuento/100\n",
    "else: \n",
    "    print(\"Respuesta no válida\")\n",
    "\n",
    "precio_descontado = round((precio * (1-valor_descuento)),2)\n",
    "print(f\"El precio con descuento es {precio_descontado} euros\")"
   ]
  },
  {
   "cell_type": "markdown",
   "metadata": {},
   "source": [
    "Crea un programa nuevo que permita al usuario ingresar varios artículos, cada uno con su precio original y cupón de descuento. Aplica los descuentos correspondientes a cada producto y muestra el monto total final de la compra."
   ]
  },
  {
   "cell_type": "code",
   "execution_count": 1,
   "metadata": {},
   "outputs": [
    {
     "name": "stdout",
     "output_type": "stream",
     "text": [
      "El precio final de tu compra es 200.0 euros\n"
     ]
    }
   ],
   "source": [
    "monto_total = 0\n",
    "compra = True\n",
    "while compra:\n",
    "    precio = float(input(\"Ingresa el precio del artículo. Escribe 0 para parar.\"))\n",
    "    if precio == 0:\n",
    "        compra = False # Mientras el usuario ingrese un valor distinto de 0, el programa sigue pidiendo que se introduzca un valor.\n",
    "    porcentaje_descuento = float(input(\"Ingresa el valor del porcentaje de descuento. Escribe 0 para parar.\"))\n",
    "    precio_descontado = round((precio * (1-(porcentaje_descuento /100))),2)\n",
    "    monto_total += precio_descontado\n",
    "print(f\"El precio final de tu compra es {monto_total} euros\")"
   ]
  },
  {
   "cell_type": "markdown",
   "metadata": {},
   "source": [
    "Crea un nuevo programa que permita aplicar descuentos por categorías. En este caso, nuestra tienda aplicará descuentos en función de la categoría (por ejemplo, electrónica, ropa, juguetes). Pregunta al usuario a que categoría pertenece su producto y aplica el descuento correspondiente a la categoría. Debes solicitar al usuario que ingrese la categoría del articulo y el precio para aplicarle el descuento. "
   ]
  },
  {
   "cell_type": "code",
   "execution_count": 28,
   "metadata": {},
   "outputs": [
    {
     "name": "stdout",
     "output_type": "stream",
     "text": [
      "El precio original del artículo es 100.0 euros\n",
      "El descuento aplicable en libros es del 15%\n",
      "El precio con descuento es 85.0 euros\n"
     ]
    }
   ],
   "source": [
    "precio = float(input(\"Ingresa el precio del artículo\"))\n",
    "print(f\"El precio original del artículo es {precio} euros\")\n",
    "categoria = input(\"Selecciona la categoría de tu artículo: electrónica, ropa, juguetes, libros\")\n",
    "\n",
    "if categoria == \"electrónica\":\n",
    "    print(\"El descuento aplicable en electrónica es del 25%\")\n",
    "    valor_descuento = 0.25\n",
    "elif categoria == \"ropo\":\n",
    "    print(\"El descuento aplicable en ropa es del 30%\")\n",
    "    valor_descuento = 0.3\n",
    "elif categoria == \"juguetes\":\n",
    "    print(\"El descuento aplicable en juguetes es del 3%\")\n",
    "    valor_descuento = 0.03\n",
    "elif categoria == \"libros\":\n",
    "    print(\"El descuento aplicable en libros es del 15%\")\n",
    "    valor_descuento = 0.15\n",
    "else:\n",
    "    print(\"Categoría no válida\")\n",
    "    \n",
    "precio_descontado = round((precio * (1-valor_descuento)),2)\n",
    "print(f\"El precio con descuento es {precio_descontado} euros\")"
   ]
  },
  {
   "cell_type": "markdown",
   "metadata": {},
   "source": [
    "Crea un nuevo programa que aplique descuentos automáticos en función de la fecha actual. Aplica un descuento del 10% en compras realizadas entre lunes y viernes o un descuento del 15% en compras realizadas durante los fines de semana."
   ]
  },
  {
   "cell_type": "code",
   "execution_count": 21,
   "metadata": {},
   "outputs": [
    {
     "name": "stdout",
     "output_type": "stream",
     "text": [
      "El precio original del artículo es 100.0 euros\n",
      "Hoy es miércoles, tu descuento es del 10.0%\n",
      "El precio con descuento es 90.0 euros\n"
     ]
    }
   ],
   "source": [
    "# Para trabajar con datos de tiempo importamos la librería datetime\n",
    "from datetime import datetime, date, time, timedelta\n",
    "\n",
    "# El valor de precio sigue siendo el que introduce el usuario\n",
    "precio = float(input(\"Ingresa el precio del artículo\"))\n",
    "print(f\"El precio original del artículo es {precio} euros\")\n",
    "\n",
    "# Los días de la semana van numerados de 0 - Lunes a 6 - Domingo por lo que podemos usar esto para saber el día y el descuento a aplicar\n",
    "dia_semana = datetime.today().weekday() # Aquí conseguimos el número del día de la semana\n",
    "dias = [\"lunes\", \"martes\", \"miércoles\", \"jueves\", \"viernes\", \"sábado\", \"domingo\"] # Usamos el número como índice para obtener el nombre del día\n",
    "# Usamos un condicional para el descuento\n",
    "if 0 <= dia_semana <= 4:\n",
    "    descuento = 0.10\n",
    "else:\n",
    "    descuento = 0.15\n",
    "print(f\"Hoy es {dias[dia_semana]}, tu descuento es del {descuento *100}%\")\n",
    "precio_descontado = round((precio * (1-descuento)),2)\n",
    "print(f\"El precio con descuento es {precio_descontado} euros\")"
   ]
  },
  {
   "cell_type": "markdown",
   "metadata": {},
   "source": [
    "Crea un programa nuevo que implemente un sistema de membresía donde los usuarios registrados obtengan un descuento adicional del 5%. Solicita al usuario que ingrese su nombre de usuario y contraseña para verificar su membresía y aplique el descuento adicional si corresponde. \n",
    "\n",
    "📝 Nota: Para este ejercicio solo tendremos un usuario registrado. El usuario es `USUARIO` y la contraseña es  `USUARIO123`. \n"
   ]
  },
  {
   "cell_type": "code",
   "execution_count": 53,
   "metadata": {},
   "outputs": [
    {
     "name": "stdout",
     "output_type": "stream",
     "text": [
      "El precio original del artículo es 100.0 euros\n",
      "El descuento es del 25.0%\n",
      "Tienes un descuento adicional del 5%\n",
      "El precio con descuento es 70.0 euros\n"
     ]
    }
   ],
   "source": [
    "precio = float(input(\"Ingresa el precio del artículo\"))\n",
    "print(f\"El precio original del artículo es {precio} euros\")\n",
    "descuento = input(\"¿Tienes un cupón de descuento? (Escribe sí o no)\")\n",
    "\n",
    "if descuento == \"no\":\n",
    "    porcentaje_descuento = 0\n",
    "    print(\"No tienes cupón de descuento\")\n",
    "elif descuento == \"sí\":\n",
    "    porcentaje_descuento = float(input(\"Ingresa el valor porcentaje de descuento\"))\n",
    "    print(f\"El descuento es del {porcentaje_descuento}%\")\n",
    "else: \n",
    "    pass\n",
    "membresía = input(\"¿Eres usuario? (Escribe sí o no)\")\n",
    "if membresía == \"sí\":\n",
    "    Usuario = input(\"Ingresa tu usuario\")\n",
    "    Contraseña = input(\"Ingresa tu contraseña\")\n",
    "    if Usuario == \"USUARIO\" and Contraseña == \"USUARIO123\":\n",
    "        print(\"Tienes un descuento adicional del 5%\")\n",
    "        descuento_extra = 5\n",
    "    else:\n",
    "        print(\"Usuario o contraseña incorrecto\")\n",
    "else:\n",
    "    pass\n",
    "valor_descuento = (porcentaje_descuento + descuento_extra)/100\n",
    "precio_descontado = round((precio * (1-valor_descuento)),2)\n",
    "print(f\"El precio con descuento es {precio_descontado} euros\")\n"
   ]
  },
  {
   "cell_type": "markdown",
   "metadata": {},
   "source": [
    "Crea un nuevo programa que ofrezca un descuento del 10% adicional si el usuario compra más de 5 artículos del mismo tipo. Debes verificar la cantidad de productos comprados y aplicar el descuento adicional si corresponde.\n"
   ]
  },
  {
   "cell_type": "code",
   "execution_count": 59,
   "metadata": {},
   "outputs": [
    {
     "name": "stdout",
     "output_type": "stream",
     "text": [
      "El precio original de tu compra es 100.0 euros\n",
      "El descuento es del 20.0%\n",
      "Tienes un descuento adicional del 10%\n",
      "El precio con descuento es 70.0 euros\n"
     ]
    }
   ],
   "source": [
    "precio_articulo = float(input(\"Ingresa el precio de tu artículo\"))\n",
    "cantidad_articulo = int(input(\"Ingresa la cantidad de artículos\"))\n",
    "precio = precio_articulo * cantidad_articulo\n",
    "print(f\"El precio original de tu compra es {precio} euros\")\n",
    "descuento = input(\"¿Tienes un cupón de descuento? (Escribe sí o no)\")\n",
    "if descuento == \"no\":\n",
    "    porcentaje_descuento = 0\n",
    "    print(\"No tienes cupón de descuento\")\n",
    "elif descuento == \"sí\":\n",
    "    porcentaje_descuento = float(input(\"Ingresa el valor porcentaje de descuento\"))\n",
    "    print(f\"El descuento es del {porcentaje_descuento}%\")\n",
    "else: \n",
    "    pass\n",
    "if cantidad_articulo > 5:\n",
    "    print(\"Tienes un descuento adicional del 10%\")\n",
    "    descuento_extra = 10\n",
    "else:\n",
    "    pass\n",
    "valor_descuento = (porcentaje_descuento + descuento_extra)/100\n",
    "precio_descontado = round((precio * (1-valor_descuento)),2)\n",
    "print(f\"El precio con descuento es {precio_descontado} euros\")\n",
    "    "
   ]
  },
  {
   "cell_type": "markdown",
   "metadata": {},
   "source": [
    "Crea un nuevo programa que ofrezca descuentos progresivos en función del volumen de compra. Aplica un descuento del 5% para compras entre 100€ y 200€, un descuento del 10% para compras entre 200€ y 500€ y un descuento del 15% para compras superiores a 500€."
   ]
  },
  {
   "cell_type": "code",
   "execution_count": 57,
   "metadata": {},
   "outputs": [
    {
     "name": "stdout",
     "output_type": "stream",
     "text": [
      "El precio original de tu compra es 100.0 euros\n",
      "El descuento aplicable es del 5%\n",
      "El precio con descuento es 95.0 euros\n"
     ]
    }
   ],
   "source": [
    "precio = float(input(\"Ingresa el precio de tu compra\"))\n",
    "print(f\"El precio original de tu compra es {precio} euros\")\n",
    "\n",
    "if 100<=precio<200:\n",
    "    print(\"El descuento aplicable es del 5%\")\n",
    "    valor_descuento = 0.05\n",
    "elif 200<=precio<=500:\n",
    "    print(\"El descuento aplicable  es del 10%\")\n",
    "    valor_descuento = 0.1\n",
    "elif precio>500:\n",
    "    print(\"El descuento aplicable es del 15%\")\n",
    "    valor_descuento = 0.15\n",
    "else:\n",
    "    print(\"No tienes descuento\")\n",
    "    \n",
    "precio_descontado = round((precio * (1-valor_descuento)),2)\n",
    "print(f\"El precio con descuento es {precio_descontado} euros\")"
   ]
  },
  {
   "cell_type": "markdown",
   "metadata": {},
   "source": [
    "Crea un nuevo programa  que ofrezca un descuento adicional del 3% si el usuario paga con tarjeta de crédito o débito. Solicita al usuario que ingrese el método de pago y el descuento original, por último aplica el descuento si corresponde."
   ]
  },
  {
   "cell_type": "code",
   "execution_count": 55,
   "metadata": {},
   "outputs": [
    {
     "name": "stdout",
     "output_type": "stream",
     "text": [
      "El precio original del artículo es 100.0 euros\n",
      "El descuento es del 22.0%\n",
      "Tienes un descuento adicional del 3%\n",
      "El precio con descuento es 75.0 euros\n"
     ]
    }
   ],
   "source": [
    "precio = float(input(\"Ingresa el precio del artículo\"))\n",
    "print(f\"El precio original del artículo es {precio} euros\")\n",
    "descuento = input(\"¿Tienes un cupón de descuento? (Escribe sí o no)\")\n",
    "\n",
    "if descuento == \"no\":\n",
    "    porcentaje_descuento = 0\n",
    "    print(\"No tienes cupón de descuento\")\n",
    "elif descuento == \"sí\":\n",
    "    porcentaje_descuento = float(input(\"Ingresa el valor porcentaje de descuento\"))\n",
    "    print(f\"El descuento es del {porcentaje_descuento}%\")\n",
    "else:\n",
    "    pass\n",
    "metodo_pago = input(\"Selecciona método de pago: tarjeta de crédito, tarjeta de débito, otros\")\n",
    "if metodo_pago == \"tarjeta de crédito\" or metodo_pago == \"tarjeta de débito\":\n",
    "    print(\"Tienes un descuento adicional del 3%\")\n",
    "    descuento_extra = 3\n",
    "else:\n",
    "    descuento_extra = 0\n",
    "\n",
    "valor_descuento = (porcentaje_descuento + descuento_extra)/100\n",
    "precio_descontado = round((precio * (1-valor_descuento)),2)\n",
    "print(f\"El precio con descuento es {precio_descontado} euros\")"
   ]
  }
 ],
 "metadata": {
  "kernelspec": {
   "display_name": "hackio",
   "language": "python",
   "name": "python3"
  },
  "language_info": {
   "codemirror_mode": {
    "name": "ipython",
    "version": 3
   },
   "file_extension": ".py",
   "mimetype": "text/x-python",
   "name": "python",
   "nbconvert_exporter": "python",
   "pygments_lexer": "ipython3",
   "version": "3.12.4"
  }
 },
 "nbformat": 4,
 "nbformat_minor": 2
}
