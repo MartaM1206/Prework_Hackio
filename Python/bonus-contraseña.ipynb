{
 "cells": [
  {
   "cell_type": "markdown",
   "metadata": {},
   "source": [
    "<div style=\"text-align: center;\">\n",
    "  <img src=\"https://github.com/Hack-io-Data/Imagenes/blob/main/01-LogosHackio/logo_celeste@4x.png?raw=true\" alt=\"esquema\" />\n",
    "</div>\n"
   ]
  },
  {
   "cell_type": "markdown",
   "metadata": {},
   "source": [
    "# Comprobación de calidad de contraseñas\n",
    "\n",
    "En este ejercicio, tendrás que generar un programa que sea capaz de comprobar la calidad de contraseñas. La seguridad de nuestras contraseñas es fundamental para proteger nuestra información personal y evitar posibles ataques cibernéticos. Para ello, vamos a crear una función llamada `verificar_seguridad_contrasena` que evaluará la calidad de una contraseña. Esta función tomará como argumento la contraseña a evaluar y devolverá si la contraseña es segura o no basado en los siguientes criterios:\n",
    "\n",
    "1. La contraseña deberá tener al menos 8 caracteres.\n",
    "\n",
    "2. La contraseña deberá tener al menos una letra mayúscula.\n",
    "\n",
    "3. La contraseña deberá tener al menos una letra minúscula. \n",
    "\n",
    "4. La contraseña deberá tener al menos un número. \n",
    "\n",
    "5. La contraseña deberá tener al menos un caracter especial. \n",
    "\n",
    "6. La contraseña no deberá tener espacios en blanco. \n",
    "\n",
    "7. La contraseña no deberá tener caracteres repetidos. \n"
   ]
  },
  {
   "cell_type": "code",
   "execution_count": 71,
   "metadata": {},
   "outputs": [],
   "source": [
    "def verificar_seguridad_contraseña(contraseña):\n",
    "    \"\"\"\n",
    "    Evalua la calidad de la contraseña.\n",
    "\n",
    "    Params:\n",
    "        contraseña (str) = contraseña que queremos evaluar.\n",
    "\n",
    "    Returns:\n",
    "        imprime un mensaje indicando si la contraseña es segura o no.\n",
    "    \"\"\"\n",
    "    criterios = []\n",
    "    mayus = [letra for letra in contraseña if letra.isupper() == True]\n",
    "    minus = [letra for letra in contraseña if letra.islower() == True]\n",
    "    num = [letra for letra in contraseña if letra.isnumeric() == True]\n",
    "    especial = [letra for letra in contraseña if letra.isalnum() == False and letra.isspace() == False]\n",
    "    espacios = [letra for letra in contraseña if letra.isspace() == True]\n",
    "    correctos = 0\n",
    "   \n",
    "    # Criterio 1. La contraseña deberá tener al menos 8 caracteres.\n",
    "    if len(contraseña) >=8:\n",
    "        criterio1 = True\n",
    "        criterios.append(criterio1)\n",
    "    else:\n",
    "        criterio1 = False\n",
    "        criterios.append(criterio1)\n",
    "        print(\"La contraseña deberá tener al menos 8 caracteres.\")\n",
    "\n",
    "    # Criterio 7. La contraseña no deberá tener caracteres repetidos. \n",
    "    if len(set(contraseña.lower())) == len(contraseña):\n",
    "        criterio7 = True\n",
    "        criterios.append(criterio7)\n",
    "    else:\n",
    "        criterio7 = False\n",
    "        criterios.append(criterio7)\n",
    "        print(\"La contraseña no deberá tener caracteres repetidos.\")\n",
    "\n",
    "    # Criterio 2. La contraseña deberá tener al menos una letra mayúscula.\n",
    "    if len(mayus) >=1:\n",
    "        criterio2 = True\n",
    "        criterios.append(criterio2)\n",
    "    else: \n",
    "        criterio2 = False\n",
    "        criterios.append(criterio2)\n",
    "        print(\"La contraseña deberá tener al menos una letra mayúscula.\")\n",
    "\n",
    "    # Criterio 3. La contraseña deberá tener al menos una letra minúscula.\n",
    "    if len(minus) >=1:\n",
    "        criterio3 = True\n",
    "        criterios.append(criterio3)\n",
    "    else:\n",
    "        print(\"La contraseña deberá tener al menos una letra minúscula.\")\n",
    "\n",
    "    # Criterio 4. La contraseña deberá tener al menos un número.\n",
    "    if len(num) >=1:\n",
    "        criterio4 = True\n",
    "        criterios.append(criterio4)\n",
    "    else:\n",
    "        criterio3 = False\n",
    "        criterios.append(criterio3)\n",
    "        print(\"La contraseña deberá tener al menos un número.\")\n",
    "\n",
    "    # Criterio 5. La contraseña deberá tener al menos un caracter especial. \n",
    "    if len(especial) >=1:\n",
    "        criterio5 = True\n",
    "        criterios.append(criterio5)\n",
    "    else:\n",
    "        criterio5 = False\n",
    "        criterios.append(criterio5)\n",
    "        print(\"La contraseña deberá tener al menos un caracter especial.\")\n",
    "\n",
    "    # Criterio 6. La contraseña no deberá tener espacios en blanco. \n",
    "    if len(espacios) == 0:\n",
    "        criterio6  = True\n",
    "        criterios.append(criterio6)\n",
    "    else:\n",
    "        criterio6  = False\n",
    "        criterios.append(criterio6)\n",
    "        print(\"La contraseña no debe tener espacios en blanco.\")\n",
    "\n",
    "    # Comprobamos que la contraseña cumple todos los criterios de seguridad      \n",
    "    for criterio in criterios:\n",
    "        if criterio == True:\n",
    "            correctos +=1\n",
    "        \n",
    "    if correctos == len(criterios):\n",
    "        print(\"Tu contraseña es segura\")\n",
    "    else:\n",
    "        print(\"Revisa tu contraseña\")"
   ]
  },
  {
   "cell_type": "code",
   "execution_count": 72,
   "metadata": {},
   "outputs": [
    {
     "name": "stdout",
     "output_type": "stream",
     "text": [
      "La contraseña no deberá tener caracteres repetidos.\n",
      "Revisa tu contraseña\n"
     ]
    }
   ],
   "source": [
    "verificar_seguridad_contraseña('Puperdochali_25')\n"
   ]
  }
 ],
 "metadata": {
  "kernelspec": {
   "display_name": "hackio",
   "language": "python",
   "name": "python3"
  },
  "language_info": {
   "codemirror_mode": {
    "name": "ipython",
    "version": 3
   },
   "file_extension": ".py",
   "mimetype": "text/x-python",
   "name": "python",
   "nbconvert_exporter": "python",
   "pygments_lexer": "ipython3",
   "version": "3.12.4"
  }
 },
 "nbformat": 4,
 "nbformat_minor": 2
}
