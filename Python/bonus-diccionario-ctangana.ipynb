{
 "cells": [
  {
   "cell_type": "markdown",
   "metadata": {},
   "source": [
    "<div style=\"text-align: center;\">\n",
    "  <img src=\"https://github.com/Hack-io-Data/Imagenes/blob/main/01-LogosHackio/logo_celeste@4x.png?raw=true\" alt=\"esquema\" />\n",
    "</div>\n"
   ]
  },
  {
   "cell_type": "markdown",
   "metadata": {},
   "source": [
    "# Ejercicio cTangana\n",
    "\n",
    "En este ejercicio tiene como objetivo principal que practiques y domines varias habilidades en Python, como la manipulación de *strings*, el uso de estructuras de datos como listas y diccionarios, y la implementación de técnicas básicas de conteo y ordenamiento. Los pasos que deberéis seguir para realizar este ejercicio son: \n",
    "\n",
    "1. Busca la letra de C. Tangana, Andrés Calamaro - Hong Kong y almacenala como una cadena de strings en `letra_cancion`.\n",
    "\n",
    "2. Crea una lista `palabras` utilizando `letra_cancion`.\n",
    "\n",
    "3. Crea un diccionario `frecuencia_palabras` en el que aparezca como claves cada una de las palabras de `letra_cancion` y sus valores que sea el numero de ocurrencia\n",
    "\n",
    "4. Ordena alfabeticamente las claves de `frecuencia_palabras` \n",
    "\n",
    "5. Crea un nuevo diccionario llamado `frecuencia_palabras2` con el orden obtenido en la pregunta 4.\n",
    "\n",
    "6. Ordenar los valores de `frecuencia_palabras2` de forma ascendente.\n",
    "\n",
    "***HINT***: Ordenar los valores de un diccionario es más complicado que ordenar las claves porque los valores de un diccionario no son únicos. Por lo tanto, no puedes usar la misma forma en que ordenaste las claves del diccionario para ordenar los valores del diccionario. La forma de ordenar un diccionario por valor es utilizar las funciones sorted y operator.itemgetter. \n"
   ]
  },
  {
   "cell_type": "code",
   "execution_count": 3,
   "metadata": {},
   "outputs": [],
   "source": [
    "letra_cancion ='''Salimos a la calle por tabaco.\n",
    "Y volvimos sin tabaco ni mechero.\n",
    "Tomamos hasta el agua del florero. \n",
    "Aquello fue peor que Puerto Hurraco. \n",
    "Me cago en las personas que se rajan. \n",
    "Muy antes de que se acabe la noche. \n",
    "Peinábamos perico con navaja. \n",
    "En el salpicadero de tu coche. \n",
    "\n",
    "Tengo una flor en el culo y un camello en Hong Kong.\n",
    "Tengo un cohete en el pantalón. \n",
    "Tengo una flor en el culo y una geisha en Japón. \n",
    "Tus banderillas en el corazón.\n",
    "\n",
    "Hagamos que parezca un accidente. \n",
    "Decirme que no tengo que ir a casa. \n",
    "Espero que esto dure para siempre.\n",
    "Sabemos qué es torear en peores plazas.\n",
    "Historias que jamás pueden contarse. \n",
    "Batallas que no pueden repetirse. \n",
    "Victorias para el que supo quedarse. \n",
    "Pa qué cojones sirve arrepentirse. \n",
    "\n",
    "Tengo una flor en el culo y un camello en Hong Kong.\n",
    "Tengo un cohete en el pantalón. \n",
    "Tengo una flor en el culo y una geisha en Japón. \n",
    "Tus banderillas en el corazón (x2)'''"
   ]
  },
  {
   "cell_type": "code",
   "execution_count": 4,
   "metadata": {},
   "outputs": [
    {
     "name": "stdout",
     "output_type": "stream",
     "text": [
      "['Salimos', 'a', 'la', 'calle', 'por', 'tabaco.', 'Y', 'volvimos', 'sin', 'tabaco', 'ni', 'mechero.', 'Tomamos', 'hasta', 'el', 'agua', 'del', 'florero.', 'Aquello', 'fue', 'peor', 'que', 'Puerto', 'Hurraco.', 'Me', 'cago', 'en', 'las', 'personas', 'que', 'se', 'rajan.', 'Muy', 'antes', 'de', 'que', 'se', 'acabe', 'la', 'noche.', 'Peinábamos', 'perico', 'con', 'navaja.', 'En', 'el', 'salpicadero', 'de', 'tu', 'coche.', 'Tengo', 'una', 'flor', 'en', 'el', 'culo', 'y', 'un', 'camello', 'en', 'Hong', 'Kong.', 'Tengo', 'un', 'cohete', 'en', 'el', 'pantalón.', 'Tengo', 'una', 'flor', 'en', 'el', 'culo', 'y', 'una', 'geisha', 'en', 'Japón.', 'Tus', 'banderillas', 'en', 'el', 'corazón.', 'Hagamos', 'que', 'parezca', 'un', 'accidente.', 'Decirme', 'que', 'no', 'tengo', 'que', 'ir', 'a', 'casa.', 'Espero', 'que', 'esto', 'dure', 'para', 'siempre.', 'Sabemos', 'qué', 'es', 'torear', 'en', 'peores', 'plazas.', 'Historias', 'que', 'jamás', 'pueden', 'contarse.', 'Batallas', 'que', 'no', 'pueden', 'repetirse.', 'Victorias', 'para', 'el', 'que', 'supo', 'quedarse.', 'Pa', 'qué', 'cojones', 'sirve', 'arrepentirse.', 'Tengo', 'una', 'flor', 'en', 'el', 'culo', 'y', 'un', 'camello', 'en', 'Hong', 'Kong.', 'Tengo', 'un', 'cohete', 'en', 'el', 'pantalón.', 'Tengo', 'una', 'flor', 'en', 'el', 'culo', 'y', 'una', 'geisha', 'en', 'Japón.', 'Tus', 'banderillas', 'en', 'el', 'corazón', '(x2)']\n"
     ]
    }
   ],
   "source": [
    "palabras = letra_cancion.split()\n",
    "print(palabras)"
   ]
  },
  {
   "cell_type": "code",
   "execution_count": 12,
   "metadata": {},
   "outputs": [
    {
     "name": "stdout",
     "output_type": "stream",
     "text": [
      "['salimos', 'a', 'la', 'calle', 'por', 'tabaco', 'y', 'volvimos', 'sin', 'tabaco', 'ni', 'mechero', 'tomamos', 'hasta', 'el', 'agua', 'del', 'florero', 'aquello', 'fue', 'peor', 'que', 'puerto', 'hurraco', 'me', 'cago', 'en', 'las', 'personas', 'que', 'se', 'rajan', 'muy', 'antes', 'de', 'que', 'se', 'acabe', 'la', 'noche', 'peinábamos', 'perico', 'con', 'navaja', 'en', 'el', 'salpicadero', 'de', 'tu', 'coche', 'tengo', 'una', 'flor', 'en', 'el', 'culo', 'y', 'un', 'camello', 'en', 'hong', 'kong', 'tengo', 'un', 'cohete', 'en', 'el', 'pantalón', 'tengo', 'una', 'flor', 'en', 'el', 'culo', 'y', 'una', 'geisha', 'en', 'japón', 'tus', 'banderillas', 'en', 'el', 'corazón', 'hagamos', 'que', 'parezca', 'un', 'accidente', 'decirme', 'que', 'no', 'tengo', 'que', 'ir', 'a', 'casa', 'espero', 'que', 'esto', 'dure', 'para', 'siempre', 'sabemos', 'qué', 'es', 'torear', 'en', 'peores', 'plazas', 'historias', 'que', 'jamás', 'pueden', 'contarse', 'batallas', 'que', 'no', 'pueden', 'repetirse', 'victorias', 'para', 'el', 'que', 'supo', 'quedarse', 'pa', 'qué', 'cojones', 'sirve', 'arrepentirse', 'tengo', 'una', 'flor', 'en', 'el', 'culo', 'y', 'un', 'camello', 'en', 'hong', 'kong', 'tengo', 'un', 'cohete', 'en', 'el', 'pantalón', 'tengo', 'una', 'flor', 'en', 'el', 'culo', 'y', 'una', 'geisha', 'en', 'japón', 'tus', 'banderillas', 'en', 'el', 'corazón', 'x2']\n"
     ]
    }
   ],
   "source": [
    "# Hay que pasar todo a minúsculas para que no cuente varias veces la misma palabra\n",
    "palabras = [palabra.lower() for palabra in palabras]\n",
    "\n",
    "# Por el mismo motivo también hay que eliminar los signos de puntuación\n",
    "# Importamos la librería \"string\" para poder usar str.translate() con string.punctuation\n",
    "import string\n",
    "# Definimos una función que use str.translate() y string.punctuation sobre una cadena para eliminar los signos de puntuación\n",
    "def eliminar_puntuacion(cadena): \n",
    "    \"\"\"\n",
    "    Elimina los signos de puntuación de una cadena de texto.\n",
    "\n",
    "    Params:\n",
    "        cadena (str) = cadena de texto a evaluar\n",
    "\n",
    "    Returns:\n",
    "        la cadena de texto sin signos de puntuación\n",
    "    \"\"\"\n",
    "    return cadena.translate(str.maketrans(\"\", \"\", string.punctuation)) \n",
    "\n",
    "palabras = [eliminar_puntuacion(cadena) for cadena in palabras]\n",
    "print(palabras)"
   ]
  },
  {
   "cell_type": "code",
   "execution_count": 13,
   "metadata": {},
   "outputs": [
    {
     "name": "stdout",
     "output_type": "stream",
     "text": [
      "{'salimos': 1, 'a': 2, 'la': 2, 'calle': 1, 'por': 1, 'tabaco': 2, 'y': 5, 'volvimos': 1, 'sin': 1, 'ni': 1, 'mechero': 1, 'tomamos': 1, 'hasta': 1, 'el': 11, 'agua': 1, 'del': 1, 'florero': 1, 'aquello': 1, 'fue': 1, 'peor': 1, 'que': 10, 'puerto': 1, 'hurraco': 1, 'me': 1, 'cago': 1, 'en': 15, 'las': 1, 'personas': 1, 'se': 2, 'rajan': 1, 'muy': 1, 'antes': 1, 'de': 2, 'acabe': 1, 'noche': 1, 'peinábamos': 1, 'perico': 1, 'con': 1, 'navaja': 1, 'salpicadero': 1, 'tu': 1, 'coche': 1, 'tengo': 7, 'una': 6, 'flor': 4, 'culo': 4, 'un': 5, 'camello': 2, 'hong': 2, 'kong': 2, 'cohete': 2, 'pantalón': 2, 'geisha': 2, 'japón': 2, 'tus': 2, 'banderillas': 2, 'corazón': 2, 'hagamos': 1, 'parezca': 1, 'accidente': 1, 'decirme': 1, 'no': 2, 'ir': 1, 'casa': 1, 'espero': 1, 'esto': 1, 'dure': 1, 'para': 2, 'siempre': 1, 'sabemos': 1, 'qué': 2, 'es': 1, 'torear': 1, 'peores': 1, 'plazas': 1, 'historias': 1, 'jamás': 1, 'pueden': 2, 'contarse': 1, 'batallas': 1, 'repetirse': 1, 'victorias': 1, 'supo': 1, 'quedarse': 1, 'pa': 1, 'cojones': 1, 'sirve': 1, 'arrepentirse': 1, 'x2': 1}\n"
     ]
    }
   ],
   "source": [
    "# Usamos un bucle for para que comprueba cada palabra de la cadena y la añada a un diccionario con la cantidad de veces que aparece\n",
    "frecuencia_palabras = {}\n",
    "for palabra in palabras:\n",
    "    if palabra in frecuencia_palabras:\n",
    "        frecuencia_palabras[palabra] += 1\n",
    "    else:\n",
    "        frecuencia_palabras[palabra] = 1\n",
    "\n",
    "print(frecuencia_palabras)"
   ]
  },
  {
   "cell_type": "code",
   "execution_count": 16,
   "metadata": {},
   "outputs": [
    {
     "name": "stdout",
     "output_type": "stream",
     "text": [
      "['a', 'acabe', 'accidente', 'agua', 'antes', 'aquello', 'arrepentirse', 'banderillas', 'batallas', 'cago', 'calle', 'camello', 'casa', 'coche', 'cohete', 'cojones', 'con', 'contarse', 'corazón', 'culo', 'de', 'decirme', 'del', 'dure', 'el', 'en', 'es', 'espero', 'esto', 'flor', 'florero', 'fue', 'geisha', 'hagamos', 'hasta', 'historias', 'hong', 'hurraco', 'ir', 'jamás', 'japón', 'kong', 'la', 'las', 'me', 'mechero', 'muy', 'navaja', 'ni', 'no', 'noche', 'pa', 'pantalón', 'para', 'parezca', 'peinábamos', 'peor', 'peores', 'perico', 'personas', 'plazas', 'por', 'pueden', 'puerto', 'que', 'quedarse', 'qué', 'rajan', 'repetirse', 'sabemos', 'salimos', 'salpicadero', 'se', 'siempre', 'sin', 'sirve', 'supo', 'tabaco', 'tengo', 'tomamos', 'torear', 'tu', 'tus', 'un', 'una', 'victorias', 'volvimos', 'x2', 'y']\n"
     ]
    }
   ],
   "source": [
    "# Ordenamos alfabéticamente las claves del diccionario \"frecuencia_palabras\"\n",
    "frecuencia_palabras_ordenado = sorted(frecuencia_palabras)\n",
    "print(frecuencia_palabras_ordenado)"
   ]
  },
  {
   "cell_type": "code",
   "execution_count": 17,
   "metadata": {},
   "outputs": [
    {
     "name": "stdout",
     "output_type": "stream",
     "text": [
      "{'a': 2, 'acabe': 1, 'accidente': 1, 'agua': 1, 'antes': 1, 'aquello': 1, 'arrepentirse': 1, 'banderillas': 2, 'batallas': 1, 'cago': 1, 'calle': 1, 'camello': 2, 'casa': 1, 'coche': 1, 'cohete': 2, 'cojones': 1, 'con': 1, 'contarse': 1, 'corazón': 2, 'culo': 4, 'de': 2, 'decirme': 1, 'del': 1, 'dure': 1, 'el': 11, 'en': 15, 'es': 1, 'espero': 1, 'esto': 1, 'flor': 4, 'florero': 1, 'fue': 1, 'geisha': 2, 'hagamos': 1, 'hasta': 1, 'historias': 1, 'hong': 2, 'hurraco': 1, 'ir': 1, 'jamás': 1, 'japón': 2, 'kong': 2, 'la': 2, 'las': 1, 'me': 1, 'mechero': 1, 'muy': 1, 'navaja': 1, 'ni': 1, 'no': 2, 'noche': 1, 'pa': 1, 'pantalón': 2, 'para': 2, 'parezca': 1, 'peinábamos': 1, 'peor': 1, 'peores': 1, 'perico': 1, 'personas': 1, 'plazas': 1, 'por': 1, 'pueden': 2, 'puerto': 1, 'que': 10, 'quedarse': 1, 'qué': 2, 'rajan': 1, 'repetirse': 1, 'sabemos': 1, 'salimos': 1, 'salpicadero': 1, 'se': 2, 'siempre': 1, 'sin': 1, 'sirve': 1, 'supo': 1, 'tabaco': 2, 'tengo': 7, 'tomamos': 1, 'torear': 1, 'tu': 1, 'tus': 2, 'un': 5, 'una': 6, 'victorias': 1, 'volvimos': 1, 'x2': 1, 'y': 5}\n"
     ]
    }
   ],
   "source": [
    "# Creamos un nuevo diccionario con el orden de claves que hemos hecho antes\n",
    "frecuencia_palabras2 = {}\n",
    "for clave in frecuencia_palabras_ordenado:\n",
    "    frecuencia_palabras2[clave] = frecuencia_palabras[clave]\n",
    "print(frecuencia_palabras2)"
   ]
  },
  {
   "cell_type": "code",
   "execution_count": 21,
   "metadata": {},
   "outputs": [
    {
     "name": "stdout",
     "output_type": "stream",
     "text": [
      "{'acabe': 1, 'accidente': 1, 'agua': 1, 'antes': 1, 'aquello': 1, 'arrepentirse': 1, 'batallas': 1, 'cago': 1, 'calle': 1, 'casa': 1, 'coche': 1, 'cojones': 1, 'con': 1, 'contarse': 1, 'decirme': 1, 'del': 1, 'dure': 1, 'es': 1, 'espero': 1, 'esto': 1, 'florero': 1, 'fue': 1, 'hagamos': 1, 'hasta': 1, 'historias': 1, 'hurraco': 1, 'ir': 1, 'jamás': 1, 'las': 1, 'me': 1, 'mechero': 1, 'muy': 1, 'navaja': 1, 'ni': 1, 'noche': 1, 'pa': 1, 'parezca': 1, 'peinábamos': 1, 'peor': 1, 'peores': 1, 'perico': 1, 'personas': 1, 'plazas': 1, 'por': 1, 'puerto': 1, 'quedarse': 1, 'rajan': 1, 'repetirse': 1, 'sabemos': 1, 'salimos': 1, 'salpicadero': 1, 'siempre': 1, 'sin': 1, 'sirve': 1, 'supo': 1, 'tomamos': 1, 'torear': 1, 'tu': 1, 'victorias': 1, 'volvimos': 1, 'x2': 1, 'a': 2, 'banderillas': 2, 'camello': 2, 'cohete': 2, 'corazón': 2, 'de': 2, 'geisha': 2, 'hong': 2, 'japón': 2, 'kong': 2, 'la': 2, 'no': 2, 'pantalón': 2, 'para': 2, 'pueden': 2, 'qué': 2, 'se': 2, 'tabaco': 2, 'tus': 2, 'culo': 4, 'flor': 4, 'un': 5, 'y': 5, 'una': 6, 'tengo': 7, 'que': 10, 'el': 11, 'en': 15}\n"
     ]
    }
   ],
   "source": [
    "\"\"\"\n",
    "***HINT***: Ordenar los valores de un diccionario es más complicado que ordenar las claves porque los valores de un diccionario no son únicos. \n",
    "Por lo tanto, no puedes usar la misma forma en que ordenaste las claves del diccionario para ordenar los valores del diccionario. \n",
    "La forma de ordenar un diccionario por valor es utilizar las funciones sorted y operator.itemgetter. \n",
    "\"\"\"\n",
    "\n",
    "\"\"\"La función sorted tiene varios parámetros: \n",
    "    el elemento iterable\n",
    "    la key, que es la forma en la que queremos ordenar el elemento iterable\n",
    "    reverse true o false que indica orden ascendente o descencente\n",
    "    Si solo ponemos el iterable se ordena alfabéticamete o por número, según el tipo que sea \n",
    "    Como queremos ordenar por los valores del diccionario tenemos que usar la función operator.itemgetter en la key de la función sorted.\n",
    "    \"\"\"\n",
    "# Tenemos que importar el módulo operator \n",
    "import operator\n",
    "# Creamos un nuevo diccionario de forma que para cada par (item) clave (k) - valor (v) ordene esos items por el segundo elemento, es decir, el valor.\n",
    "\n",
    "diccionario_ordenado = {k: v for k, v in sorted(frecuencia_palabras2.items(), key=operator.itemgetter(1))}\n",
    "\n",
    "print(diccionario_ordenado)"
   ]
  }
 ],
 "metadata": {
  "kernelspec": {
   "display_name": "Python 3",
   "language": "python",
   "name": "python3"
  },
  "language_info": {
   "codemirror_mode": {
    "name": "ipython",
    "version": 3
   },
   "file_extension": ".py",
   "mimetype": "text/x-python",
   "name": "python",
   "nbconvert_exporter": "python",
   "pygments_lexer": "ipython3",
   "version": "3.12.4"
  }
 },
 "nbformat": 4,
 "nbformat_minor": 2
}
