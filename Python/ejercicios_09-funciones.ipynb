{
 "cells": [
  {
   "cell_type": "markdown",
   "metadata": {},
   "source": [
    "\n",
    "<div style=\"text-align: center;\">\n",
    "  <img src=\"https://github.com/Hack-io-Data/Imagenes/blob/main/01-LogosHackio/logo_celeste@4x.png?raw=true\" alt=\"esquema\" />\n",
    "</div>"
   ]
  },
  {
   "cell_type": "markdown",
   "metadata": {},
   "source": [
    "#### 1. Escribe una función sin parámetros que imprima el siguiente mensaje \"¡Hola! Bienvenido.\"\n"
   ]
  },
  {
   "cell_type": "code",
   "execution_count": 2,
   "metadata": {},
   "outputs": [],
   "source": [
    "def saludar():\n",
    "    \"\"\"\n",
    "    Saluda.\n",
    "\n",
    "    Params:\n",
    "        no tiene parámetros\n",
    "\n",
    "    Returns:\n",
    "        Imprime un mensaje de saludo.\n",
    "    \"\"\"\n",
    "    Ejemplos:\n",
    "    print(\"¡Hola! Bienvenido.\")"
   ]
  },
  {
   "cell_type": "code",
   "execution_count": 3,
   "metadata": {},
   "outputs": [
    {
     "name": "stdout",
     "output_type": "stream",
     "text": [
      "¡Hola! Bienvenido.\n"
     ]
    }
   ],
   "source": [
    "saludar()"
   ]
  },
  {
   "cell_type": "markdown",
   "metadata": {},
   "source": [
    "#### 2. Escribe una función que reciba dos parámetros y devuelva la suma de ambos.\n"
   ]
  },
  {
   "cell_type": "code",
   "execution_count": 4,
   "metadata": {},
   "outputs": [],
   "source": [
    "def suma_numeros(num1, num2):\n",
    "     \"\"\"\n",
    "    Suma dos números\n",
    "\n",
    "    Params:\n",
    "        num1 (int o float): primer número para sumar\n",
    "        num2 (int o float): segundo número para sumar\n",
    "\n",
    "    Returns:\n",
    "        el resultado de la suma de los dos números (int o float)\n",
    "    \"\"\"\n",
    "    return num1 + num2"
   ]
  },
  {
   "cell_type": "code",
   "execution_count": 5,
   "metadata": {},
   "outputs": [
    {
     "data": {
      "text/plain": [
       "59"
      ]
     },
     "execution_count": 5,
     "metadata": {},
     "output_type": "execute_result"
    }
   ],
   "source": [
    "suma_numeros(25, 34)"
   ]
  },
  {
   "cell_type": "markdown",
   "metadata": {},
   "source": [
    "#### 3. Escribe una función que reciba un número y devuelva True si es par, False si no lo es."
   ]
  },
  {
   "cell_type": "code",
   "execution_count": 7,
   "metadata": {},
   "outputs": [],
   "source": [
    "def es_par(num):\n",
    "    \"\"\"\n",
    "    Determina si un número dado es par o impar\n",
    "\n",
    "    Params:\n",
    "        num (int o float): número para evaluar\n",
    "\n",
    "    Returns:\n",
    "        True si es par y False si es impar\n",
    "    \"\"\"\n",
    "    if num %2==0:\n",
    "        return True\n",
    "    else:\n",
    "        return False"
   ]
  },
  {
   "cell_type": "code",
   "execution_count": 9,
   "metadata": {},
   "outputs": [
    {
     "data": {
      "text/plain": [
       "False"
      ]
     },
     "execution_count": 9,
     "metadata": {},
     "output_type": "execute_result"
    }
   ],
   "source": [
    "es_par(58453)"
   ]
  },
  {
   "cell_type": "markdown",
   "metadata": {},
   "source": [
    "#### 4. Escribe un función que devuelva un saludo personalizado a una persona dado su nombre. \n"
   ]
  },
  {
   "cell_type": "code",
   "execution_count": 10,
   "metadata": {},
   "outputs": [],
   "source": [
    "def saludo2(nombre):\n",
    "    \"\"\"\n",
    "    Saluda.\n",
    "\n",
    "    Params:\n",
    "        nombre (str): nombre de la persona a saludar.\n",
    "\n",
    "    Returns:\n",
    "        Imprime un mensaje de saludo que incluye el nombre dado.\n",
    "    \"\"\"\n",
    "    print(f\"!Hola, {nombre}! Nos alegra volver a verte\")\n",
    "    "
   ]
  },
  {
   "cell_type": "code",
   "execution_count": 11,
   "metadata": {},
   "outputs": [
    {
     "name": "stdout",
     "output_type": "stream",
     "text": [
      "!Hola, Fernando! Nos alegra volver a verte\n"
     ]
    }
   ],
   "source": [
    "saludo2(\"Fernando\")"
   ]
  },
  {
   "cell_type": "markdown",
   "metadata": {},
   "source": [
    "#### 5. Escribe una función que sume todos los números que reciba como argumento. La función debe recibir una cantidad variable de argumentos y devolver la suma de todos ellos."
   ]
  },
  {
   "cell_type": "code",
   "execution_count": 44,
   "metadata": {},
   "outputs": [],
   "source": [
    "def sumar(*numeros):\n",
    "    \"\"\"\n",
    "    Suma una lista de números\n",
    "\n",
    "    Params:\n",
    "        numeros (int o float): lista de números para sumar\n",
    "        \n",
    "    Returns:\n",
    "        El resultado de la suma de todos números dados (int o float)\n",
    "    \"\"\"\n",
    "    suma = 0\n",
    "    for numero in numeros:\n",
    "        suma += numero\n",
    "    return suma"
   ]
  },
  {
   "cell_type": "code",
   "execution_count": 41,
   "metadata": {},
   "outputs": [
    {
     "data": {
      "text/plain": [
       "122.8"
      ]
     },
     "execution_count": 41,
     "metadata": {},
     "output_type": "execute_result"
    }
   ],
   "source": [
    "sumar(24, 5, 34, 2, 57.8)"
   ]
  },
  {
   "cell_type": "markdown",
   "metadata": {},
   "source": [
    "#### 6. Escribe una función que cuente las letras de una palabra y devuelva un diccionario con la cantidad de veces que se repite cada letra \n"
   ]
  },
  {
   "cell_type": "code",
   "execution_count": 14,
   "metadata": {},
   "outputs": [],
   "source": [
    "def cuenta_letras(palabra):\n",
    "    \"\"\"\n",
    "    Cuenta las letras de una palabra dada.\n",
    "\n",
    "    Params:\n",
    "        palabra (str): palabra de la que queremos contar las letras.\n",
    "        \n",
    "    Returns:\n",
    "        contador_letras (dict): diccionario que recgoe las letras (clave) y la cantidad que aparece cada una (valor)\n",
    "    \"\"\"\n",
    "    palabra.split()\n",
    "    contador_letras = {}\n",
    "    for letra in palabra:\n",
    "        if letra in contador_letras:\n",
    "            contador_letras[letra] += 1\n",
    "        else:\n",
    "            contador_letras[letra] = 1\n",
    "\n",
    "    print(contador_letras)"
   ]
  },
  {
   "cell_type": "code",
   "execution_count": 15,
   "metadata": {},
   "outputs": [
    {
     "name": "stdout",
     "output_type": "stream",
     "text": [
      "{'e': 4, 's': 2, 't': 2, 'r': 1, 'n': 1, 'o': 4, 'c': 1, 'l': 1, 'i': 2, 'd': 2, 'm': 1, 'a': 1}\n"
     ]
    }
   ],
   "source": [
    "cuenta_letras(\"esternocleidomastoideo\")"
   ]
  },
  {
   "cell_type": "markdown",
   "metadata": {},
   "source": [
    "#### 7. Escribe un función recursiva para calcular el factorial de un número entero no negativo."
   ]
  },
  {
   "cell_type": "code",
   "execution_count": null,
   "metadata": {},
   "outputs": [],
   "source": [
    "def factorial(num):\n",
    "    if num <0:\n",
    "        print(\"Debe ser un número entero no negativo\")\n",
    "    for n in num:"
   ]
  },
  {
   "cell_type": "markdown",
   "metadata": {},
   "source": [
    "#### 8. Escribe una función que tome dos parámetros: `figura` (una cadena que puede ser `\"rectangulo\"`, `\"circulo\"` o `\"triangulo\"`) y `datos` (una tupla con los datos necesarios para calcular el área de la figura). "
   ]
  },
  {
   "cell_type": "code",
   "execution_count": 24,
   "metadata": {},
   "outputs": [],
   "source": [
    "def calcula_area(figura, datos):\n",
    "    \"\"\"\n",
    "    Calcula el area de una figura.\n",
    "\n",
    "    Params:\n",
    "        figura (str): nombre de la figura de la que queremos calcular el área.\n",
    "        datos (tuple): tupla con los datos necesarios para calcular el área de la figura\n",
    "        \n",
    "    Returns:\n",
    "        area (int o float): resultado del cálculo del área\n",
    "    \"\"\"\n",
    "    area = 0\n",
    "    if figura == \"rectangulo\":\n",
    "        area = datos[0] * datos [1]\n",
    "    elif figura == \"triangulo\":\n",
    "        area = (datos[0] * datos [1]) / 2\n",
    "    elif figura == \"circulo\":\n",
    "        area = 3,14159 * (datos[0] **2)\n",
    "    else:\n",
    "        print(\"Esa figura no es válida\")\n",
    "    \n",
    "    print(f\"El área de tu {figura} es {area}\")"
   ]
  },
  {
   "cell_type": "code",
   "execution_count": 38,
   "metadata": {},
   "outputs": [
    {
     "name": "stdout",
     "output_type": "stream",
     "text": [
      "El área de tu rectangulo es 10\n"
     ]
    }
   ],
   "source": [
    "calcula_area(\"rectangulo\", (2,5))\n"
   ]
  },
  {
   "cell_type": "markdown",
   "metadata": {},
   "source": [
    "#### 9. Escribe una función que tome una lista de números como parámetro y devuelva el número más grande de la lista. No utilices la función `max()` de Python en tu solución."
   ]
  },
  {
   "cell_type": "code",
   "execution_count": 31,
   "metadata": {},
   "outputs": [],
   "source": [
    "def num_mayor(*numeros):\n",
    "     \"\"\"\n",
    "    Devuelve el número más grande de una lista de números dada.\n",
    "\n",
    "    Params:\n",
    "        numeros (int o float): lista de números\n",
    "        \n",
    "    Returns:\n",
    "        maximo (int o float): número más grande de la lista\n",
    "    \"\"\"\n",
    "    \n",
    "     maximo = numeros[0]\n",
    "     for num in numeros[1:]:\n",
    "        if num > maximo:\n",
    "            maximo = num\n",
    "        else:\n",
    "            pass\n",
    "        print(maximo) \n"
   ]
  },
  {
   "cell_type": "code",
   "execution_count": 32,
   "metadata": {},
   "outputs": [
    {
     "name": "stdout",
     "output_type": "stream",
     "text": [
      "23\n",
      "23\n",
      "24\n",
      "24\n",
      "78\n",
      "78\n",
      "102\n"
     ]
    }
   ],
   "source": [
    "num_mayor(23, -5.1, 0, 24, 5.4, 78, 1, 102)"
   ]
  },
  {
   "cell_type": "markdown",
   "metadata": {},
   "source": [
    "#### 10. Escribe una función que tome una cadena como parámetro un texto y devuelva `True` si la cadena es un palíndromo (se lee igual de izquierda a derecha que de derecha a izquierda), y `False` en caso contrario. Ignora los espacios y considera mayúsculas y minúsculas de manera insensible.\n"
   ]
  },
  {
   "cell_type": "code",
   "execution_count": 15,
   "metadata": {},
   "outputs": [],
   "source": [
    "def es_palindromo(cadena):\n",
    "    \"\"\"\n",
    "    Evalua si una cadena es un palíndromo.\n",
    "\n",
    "    Params:\n",
    "        cadena (str): cadena a evaluar\n",
    "        \n",
    "    Returns:\n",
    "        True si es palíndromo y False si no lo es\n",
    "    \"\"\"\n",
    "    # Pasamos la cadena a minúsculas y eliminamos los espacios\n",
    "    cadena = cadena.lower().replace(\" \",\"\")\n",
    "    cadena2 = cadena[::-1]\n",
    "    if cadena2 == cadena:\n",
    "        return True\n",
    "    else:\n",
    "        return False"
   ]
  },
  {
   "cell_type": "code",
   "execution_count": 14,
   "metadata": {},
   "outputs": [
    {
     "data": {
      "text/plain": [
       "True"
      ]
     },
     "execution_count": 14,
     "metadata": {},
     "output_type": "execute_result"
    }
   ],
   "source": [
    "es_palindromo(\"Arriba la birra\")"
   ]
  },
  {
   "cell_type": "markdown",
   "metadata": {},
   "source": [
    "#### 11. Escribe una función que tome una cadena como parámetro y devuelva dos valores: la cantidad de vocales y la cantidad de consonantes presentes en la cadena. Ignora los espacios y considera mayúsculas y minúsculas de manera insensible.\n"
   ]
  },
  {
   "cell_type": "code",
   "execution_count": 60,
   "metadata": {},
   "outputs": [],
   "source": [
    "def vocal_conso (texto):\n",
    "    \"\"\"\n",
    "    Devuelve el número de vocales y consonantes de una cadena.\n",
    "\n",
    "    Params:\n",
    "        texto (str): cadena a evaluar\n",
    "        \n",
    "    Returns:\n",
    "        vocales_y_consonantes (tuple): una tupla con el número de vocales y el de consonantes\n",
    "    \"\"\"\n",
    "    \n",
    "    vocales = \"aeiouáéíóú\"\n",
    "    consonantes = 'bcdfghjklmnpqrstvwxyz'\n",
    "    cuenta_vocal = 0\n",
    "    cuenta_conso = 0\n",
    "    texto = texto.lower()\n",
    "\n",
    "    for letra in texto:\n",
    "        if letra in vocales:\n",
    "            cuenta_vocal +=1\n",
    "        elif letra in consonantes:\n",
    "            cuenta_conso += 1\n",
    "    return cuenta_vocal, cuenta_conso\n"
   ]
  },
  {
   "cell_type": "code",
   "execution_count": 61,
   "metadata": {},
   "outputs": [
    {
     "data": {
      "text/plain": [
       "(6, 9)"
      ]
     },
     "execution_count": 61,
     "metadata": {},
     "output_type": "execute_result"
    }
   ],
   "source": [
    "vocal_conso(\"Chorizo y Brócoli\")"
   ]
  }
 ],
 "metadata": {
  "kernelspec": {
   "display_name": "hackio",
   "language": "python",
   "name": "python3"
  },
  "language_info": {
   "codemirror_mode": {
    "name": "ipython",
    "version": 3
   },
   "file_extension": ".py",
   "mimetype": "text/x-python",
   "name": "python",
   "nbconvert_exporter": "python",
   "pygments_lexer": "ipython3",
   "version": "3.12.4"
  }
 },
 "nbformat": 4,
 "nbformat_minor": 2
}
