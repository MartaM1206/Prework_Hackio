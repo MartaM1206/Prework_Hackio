{
 "cells": [
  {
   "cell_type": "markdown",
   "metadata": {},
   "source": [
    "<div style=\"text-align: center;\">\n",
    "  <img src=\"https://github.com/Hack-io-Data/Imagenes/blob/main/01-LogosHackio/logo_celeste@4x.png?raw=true\" alt=\"logo hack(io)\" />\n",
    "</div>"
   ]
  },
  {
   "cell_type": "markdown",
   "metadata": {},
   "source": [
    "#### 1. Escribe un programa que determine si un número es par o impar.\n",
    "\n"
   ]
  },
  {
   "cell_type": "code",
   "execution_count": 2,
   "metadata": {},
   "outputs": [
    {
     "name": "stdout",
     "output_type": "stream",
     "text": [
      "Has elegido el número 657\n",
      "El número es impar\n"
     ]
    }
   ],
   "source": [
    "numero = int(input(\"Dime un número\"))\n",
    "print(f\"Has elegido el número {numero}\")\n",
    "if numero %2 ==0:\n",
    "    print(\"El número es par\")\n",
    "else:\n",
    "    print(\"El número es impar\")"
   ]
  },
  {
   "cell_type": "markdown",
   "metadata": {},
   "source": [
    "#### 2. Genera un programa que nos diga si es de noche, de día o tarde según la hora proporcionada por el usuario."
   ]
  },
  {
   "cell_type": "code",
   "execution_count": 14,
   "metadata": {},
   "outputs": [
    {
     "name": "stdout",
     "output_type": "stream",
     "text": [
      "Son las 3\n",
      "Es de noche\n"
     ]
    }
   ],
   "source": [
    "hora = int(input('Dime la hora (en formato 24h)'))\n",
    "print(f\"Son las {hora}\")\n",
    "if 7 <= hora <= 14:\n",
    "    print(\"Es de día\")\n",
    "elif 15 <= hora <=20:\n",
    "    print(\"Es por la tarde\")\n",
    "else:\n",
    "    print(\"Es de noche\")"
   ]
  },
  {
   "cell_type": "markdown",
   "metadata": {},
   "source": [
    "#### 3. Dado un nombre imprime un saludo personalizado."
   ]
  },
  {
   "cell_type": "code",
   "execution_count": 17,
   "metadata": {},
   "outputs": [
    {
     "name": "stdout",
     "output_type": "stream",
     "text": [
      "Nos alegra verte, Fernando\n"
     ]
    }
   ],
   "source": [
    "nombre = input(\"Elige tu usuario: 'Carmen', 'Fernando', 'María', 'Andrew'\")\n",
    "if nombre == 'Carmen':\n",
    "    print(f\"Hola, {nombre}, ¿cómo estás\")\n",
    "elif nombre == 'Fernando':\n",
    "    print(f\"Nos alegra verte, {nombre}\")\n",
    "elif nombre == 'María':\n",
    "    print(f'Bienvenida de nuevo, {nombre}')\n",
    "elif nombre == 'Andrew':\n",
    "    print(f'Hi, {nombre}, how are you?')\n",
    "else:\n",
    "    print('El usuario no es correcto')\n"
   ]
  },
  {
   "cell_type": "markdown",
   "metadata": {},
   "source": [
    "#### 4. Escribe un programa que determine qué calificación en texto tiene un alumno en base a su calificación numérica. Las reglas de calificación son: \n",
    "\n",
    "- 0 - 69 insuficiente\n",
    "\n",
    "- 70 - 79 bien\n",
    "\n",
    "- 80 - 89 muy bien\n",
    "\n",
    "- 90 - 100 excelente\n"
   ]
  },
  {
   "cell_type": "code",
   "execution_count": 38,
   "metadata": {},
   "outputs": [
    {
     "name": "stdout",
     "output_type": "stream",
     "text": [
      "Tu nota es  53\n",
      "Tu calificación es \"insuficiente\"\n"
     ]
    }
   ],
   "source": [
    "nota = int(input(\"Dime tu nota (de 0 a 100)\"))\n",
    "print('Tu nota es ',nota)\n",
    "if nota >=0 and nota<=69:\n",
    "    print('Tu calificación es \"insuficiente\"')\n",
    "elif nota >=70 and nota<=79:\n",
    "    print('Tu calificación es \"bien\"')\n",
    "elif nota >=80 and nota<=89:\n",
    "    print('Tu calificación es \"muy bien\"') \n",
    "else:\n",
    "    print('Tu calificación es \"excelente\"')"
   ]
  },
  {
   "cell_type": "markdown",
   "metadata": {},
   "source": [
    "#### 5. Escribe un programa que imprima el día de la semana, dado un número del 1 al 7.\n"
   ]
  },
  {
   "cell_type": "code",
   "execution_count": 39,
   "metadata": {},
   "outputs": [
    {
     "name": "stdout",
     "output_type": "stream",
     "text": [
      "Has elegido el  5\n",
      "viernes\n"
     ]
    }
   ],
   "source": [
    "dia = int(input(\"Dime un número del 1 al 7\"))\n",
    "print('Has elegido el ',dia)\n",
    "dias_semana=['lunes', 'martes', 'miércoles', 'jueves', 'viernes', 'sábado', 'domingo']\n",
    "if dia >= 1 and dia <= 7:\n",
    "    print(dias_semana[dia -1])\n",
    "else:\n",
    "    print('Ese número no es válido')"
   ]
  },
  {
   "cell_type": "markdown",
   "metadata": {},
   "source": [
    "#### 6. Escribe un programa que determine si un número es positivo, negativo o cero."
   ]
  },
  {
   "cell_type": "code",
   "execution_count": 1,
   "metadata": {},
   "outputs": [
    {
     "name": "stdout",
     "output_type": "stream",
     "text": [
      "Tu número es  5.0\n",
      "El número que has elegido es positivo\n"
     ]
    }
   ],
   "source": [
    "numero = float(input(\"Dime un número\"))\n",
    "print(\"Tu número es \", numero)\n",
    "if numero<0:\n",
    "    print('El número que has elegido es negativo')\n",
    "elif numero>0:\n",
    "    print('El número que has elegido es positivo')\n",
    "else:\n",
    "    print('Has elegido el cero')"
   ]
  },
  {
   "cell_type": "markdown",
   "metadata": {},
   "source": [
    "#### 7. Escribe un programa que determine si una persona puede conducir o no. La edad mínima para conducir es 18 años. \n"
   ]
  },
  {
   "cell_type": "code",
   "execution_count": 26,
   "metadata": {},
   "outputs": [
    {
     "name": "stdout",
     "output_type": "stream",
     "text": [
      "Tienes edad legal para conducir\n"
     ]
    }
   ],
   "source": [
    "edad = int(input('¿Cuántos años tienes?'))\n",
    "if edad>=18:\n",
    "    print('Tienes edad legal para conducir')\n",
    "else:\n",
    "    print('No puedes conducir')"
   ]
  },
  {
   "cell_type": "markdown",
   "metadata": {},
   "source": [
    "#### 8. Escribe un programa que determine si un estudiante aprobó o suspendió un examen."
   ]
  },
  {
   "cell_type": "code",
   "execution_count": 2,
   "metadata": {},
   "outputs": [
    {
     "name": "stdout",
     "output_type": "stream",
     "text": [
      "Tu nota es 6.0\n",
      "Has aprobado\n"
     ]
    }
   ],
   "source": [
    "nota = float(input(\"Dime tu nota (de 0 a 10)\"))\n",
    "print(\"Tu nota es\", nota)\n",
    "if 5<=nota<=10:\n",
    "    print('Has aprobado')\n",
    "else:\n",
    "    print('Has suspendido')"
   ]
  },
  {
   "cell_type": "markdown",
   "metadata": {},
   "source": [
    "#### 9. Escribe un programa que determine si un número es múltiplo de 3 y 5.\n"
   ]
  },
  {
   "cell_type": "code",
   "execution_count": 3,
   "metadata": {},
   "outputs": [
    {
     "name": "stdout",
     "output_type": "stream",
     "text": [
      "Has elegido el número 25\n",
      "El número no es múltiplo de 3 y 5\n"
     ]
    }
   ],
   "source": [
    "numero = int(input(\"Dime un número\"))\n",
    "print(f\"Has elegido el número {numero}\")\n",
    "if numero %3 ==0 and numero %5 ==0:\n",
    "    print(\"El número es múltiplo de 3 y de 5\")\n",
    "else:\n",
    "    print(\"El número no es múltiplo de 3 y 5\")"
   ]
  },
  {
   "cell_type": "markdown",
   "metadata": {},
   "source": [
    "#### 10. Escribe un programa que determine si un número es par o impar.\n"
   ]
  },
  {
   "cell_type": "code",
   "execution_count": 19,
   "metadata": {},
   "outputs": [
    {
     "name": "stdout",
     "output_type": "stream",
     "text": [
      "Has elegido el número 5866\n",
      "El número es par\n"
     ]
    }
   ],
   "source": [
    "numero = int(input(\"Dime un número\"))\n",
    "print(f\"Has elegido el número {numero}\")\n",
    "if numero %2 !=0:\n",
    "    print(\"El número es impar\")\n",
    "else:\n",
    "    print(\"El número es par\")"
   ]
  }
 ],
 "metadata": {
  "kernelspec": {
   "display_name": "hackio",
   "language": "python",
   "name": "python3"
  },
  "language_info": {
   "codemirror_mode": {
    "name": "ipython",
    "version": 3
   },
   "file_extension": ".py",
   "mimetype": "text/x-python",
   "name": "python",
   "nbconvert_exporter": "python",
   "pygments_lexer": "ipython3",
   "version": "3.12.4"
  }
 },
 "nbformat": 4,
 "nbformat_minor": 2
}
