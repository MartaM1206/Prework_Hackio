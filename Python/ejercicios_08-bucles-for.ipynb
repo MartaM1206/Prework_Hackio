{
 "cells": [
  {
   "cell_type": "markdown",
   "metadata": {},
   "source": [
    "<div style=\"text-align: center;\">\n",
    "  <img src=\"https://github.com/Hack-io-Data/Imagenes/blob/main/01-LogosHackio/logo_celeste@4x.png?raw=true\" alt=\"logo hack(io)\" />\n",
    "</div>"
   ]
  },
  {
   "cell_type": "markdown",
   "metadata": {},
   "source": [
    "####  1. Genera una lista de números del 0 al 4 y luego imprime cada número en la lista usando un `bucle for`. "
   ]
  },
  {
   "cell_type": "code",
   "execution_count": 2,
   "metadata": {},
   "outputs": [
    {
     "name": "stdout",
     "output_type": "stream",
     "text": [
      "0\n",
      "1\n",
      "2\n",
      "3\n",
      "4\n"
     ]
    }
   ],
   "source": [
    "lista_numeros = [0, 1, 2, 3, 4]\n",
    "for numero in lista_numeros:\n",
    "    print(numero)"
   ]
  },
  {
   "cell_type": "markdown",
   "metadata": {},
   "source": [
    "#### 2. Itera sobre una lista de frutas y muestra cada fruta en mayúsculas. \n"
   ]
  },
  {
   "cell_type": "code",
   "execution_count": 5,
   "metadata": {},
   "outputs": [
    {
     "name": "stdout",
     "output_type": "stream",
     "text": [
      "PERA\n",
      "MANZANA\n",
      "MELOCOTÓN\n",
      "PIÑA\n",
      "PLÁTANO\n"
     ]
    }
   ],
   "source": [
    "lista_frutas = [\"pera\", \"manzana\", \"melocotón\", \"piña\", \"plátano\"]\n",
    "for fruta in lista_frutas:\n",
    "    print(fruta.upper())"
   ]
  },
  {
   "cell_type": "markdown",
   "metadata": {},
   "source": [
    "####  3. Genera un bucle while que imprima los números del 0 al 4. \n"
   ]
  },
  {
   "cell_type": "code",
   "execution_count": 16,
   "metadata": {},
   "outputs": [
    {
     "name": "stdout",
     "output_type": "stream",
     "text": [
      "0\n",
      "1\n",
      "2\n",
      "3\n",
      "4\n"
     ]
    }
   ],
   "source": [
    "numero = 0\n",
    "while numero <= 4:\n",
    "    print(numero)\n",
    "    numero += 1"
   ]
  },
  {
   "cell_type": "markdown",
   "metadata": {},
   "source": [
    "#### 4. Genera un bucle del 0 al 9, pero que se detenga en el 5.\n"
   ]
  },
  {
   "cell_type": "code",
   "execution_count": 12,
   "metadata": {},
   "outputs": [
    {
     "name": "stdout",
     "output_type": "stream",
     "text": [
      "0\n",
      "1\n",
      "2\n",
      "3\n",
      "4\n",
      "5\n"
     ]
    }
   ],
   "source": [
    "for numero in range(0, 10):\n",
    "  if numero == 6:\n",
    "    break\n",
    "  print(numero)"
   ]
  },
  {
   "cell_type": "markdown",
   "metadata": {},
   "source": [
    "#### 5. Recorre los números del 0 al 9 e imprime solo los números impares."
   ]
  },
  {
   "cell_type": "code",
   "execution_count": 10,
   "metadata": {},
   "outputs": [
    {
     "name": "stdout",
     "output_type": "stream",
     "text": [
      "1\n",
      "3\n",
      "5\n",
      "7\n",
      "9\n"
     ]
    }
   ],
   "source": [
    "for numero in range(0, 10):\n",
    "  if numero %2 !=0:\n",
    "    print(numero)"
   ]
  },
  {
   "cell_type": "markdown",
   "metadata": {},
   "source": [
    "#### 6. Dada la lista `[10, 20, 30, 40, 50]`, calcula la suma de todos los elementos usando un bucle `for`."
   ]
  },
  {
   "cell_type": "code",
   "execution_count": 14,
   "metadata": {},
   "outputs": [
    {
     "name": "stdout",
     "output_type": "stream",
     "text": [
      "La suma de los elementos de la lista es  150\n"
     ]
    }
   ],
   "source": [
    "lista = [10, 20, 30, 40, 50]\n",
    "suma_lista = 0\n",
    "for numero in lista:\n",
    "    suma_lista +=numero\n",
    "print(\"La suma de los elementos de la lista es \", suma_lista)"
   ]
  },
  {
   "cell_type": "markdown",
   "metadata": {},
   "source": [
    "#### 7. Dada la cadena `\"Hola mundo\"`, cuenta cuántas veces aparecen las vocales (`a`, `e`, `i`, `o`, `u`) usando un bucle `for`.\n"
   ]
  },
  {
   "cell_type": "code",
   "execution_count": 34,
   "metadata": {},
   "outputs": [
    {
     "name": "stdout",
     "output_type": "stream",
     "text": [
      "En la cadena Hola mundo hay 4 vocales\n"
     ]
    }
   ],
   "source": [
    "cadena = \"Hola mundo\"\n",
    "vocales = \"aeiou\"\n",
    "numero_vocales = 0\n",
    "for letra in cadena:\n",
    "    if letra in vocales:\n",
    "        numero_vocales +=1\n",
    "print(f\"En la cadena {cadena} hay {numero_vocales} vocales\")"
   ]
  },
  {
   "cell_type": "markdown",
   "metadata": {},
   "source": [
    "#### 8. Dada la cadena `\"Python\"`, usa un bucle `for` para imprimir los caracteres en orden inverso (`n`, `o`, `h`, `t`, `y`, `P`).\n"
   ]
  },
  {
   "cell_type": "code",
   "execution_count": 21,
   "metadata": {},
   "outputs": [
    {
     "name": "stdout",
     "output_type": "stream",
     "text": [
      "n\n",
      "o\n",
      "h\n",
      "t\n",
      "y\n",
      "P\n"
     ]
    }
   ],
   "source": [
    "cadena = \"Python\"\n",
    "for letra in cadena[::-1]:\n",
    "    print(letra)\n",
    "\n"
   ]
  },
  {
   "cell_type": "markdown",
   "metadata": {},
   "source": [
    "#### 9. Dada la lista `[1, 2, 3, 4, 5]`, multiplica todos sus elementos usando un bucle `for` y almacena los resultados en una lista nueva. \n"
   ]
  },
  {
   "cell_type": "code",
   "execution_count": 21,
   "metadata": {},
   "outputs": [
    {
     "name": "stdout",
     "output_type": "stream",
     "text": [
      "[5, 10, 15, 20, 25]\n"
     ]
    }
   ],
   "source": [
    "# Multiplicamos cada elemento por un número que se pide al usuario\n",
    "lista_numeros = [1, 2, 3, 4, 5]\n",
    "lista_multiplicada =[]\n",
    "numero_multiplicar = int(input(\"Dime un número entero\"))\n",
    "for numero in lista_numeros:\n",
    "    lista_multiplicada.append(numero * numero_multiplicar)\n",
    "print(lista_multiplicada)"
   ]
  },
  {
   "cell_type": "markdown",
   "metadata": {},
   "source": [
    "#### 10. Dada la lista `[1, 2, 3, 4, 5, 6, 7, 8, 9, 10]`, utiliza un bucle `for` para contar cuántos números son pares y cuántos son impares."
   ]
  },
  {
   "cell_type": "code",
   "execution_count": 26,
   "metadata": {},
   "outputs": [
    {
     "name": "stdout",
     "output_type": "stream",
     "text": [
      "Hay 5 números pares\n",
      "Hay 5 números impares\n"
     ]
    }
   ],
   "source": [
    "lista = [1, 2, 3, 4, 5, 6, 7, 8, 9, 10]\n",
    "pares = 0\n",
    "impares = 0\n",
    "for numero in lista:\n",
    "    if numero %2 ==0:\n",
    "        pares +=1\n",
    "    else:\n",
    "        impares += 1\n",
    "print(f'Hay {pares} números pares')\n",
    "print(f'Hay {impares} números impares')"
   ]
  },
  {
   "cell_type": "markdown",
   "metadata": {},
   "source": [
    "#### 11. Escribe un programa que solicite al usuario un número entero positivo (`n`) y calcule la suma de todos los números primos menores o iguales a `n`. Utiliza un bucle `for` para iterar sobre cada número y verifica si es primo."
   ]
  },
  {
   "cell_type": "code",
   "execution_count": null,
   "metadata": {},
   "outputs": [],
   "source": [
    "\n",
    "\n"
   ]
  },
  {
   "cell_type": "markdown",
   "metadata": {},
   "source": [
    "#### 12. Escribe un programa que solicite al usuario un número entero positivo (`n`) y luego imprima un patrón de asteriscos como el siguiente ejemplo para `n = 5`:\n",
    "```\n",
    "*\n",
    "**\n",
    "***\n",
    "****\n",
    "*****\n",
    "```\n",
    "Utiliza un bucle `for` anidado para controlar la cantidad de asteriscos en cada línea."
   ]
  },
  {
   "cell_type": "code",
   "execution_count": 31,
   "metadata": {},
   "outputs": [
    {
     "name": "stdout",
     "output_type": "stream",
     "text": [
      "\n",
      "*\n",
      "**\n",
      "***\n",
      "****\n",
      "*****\n",
      "******\n",
      "*******\n",
      "********\n"
     ]
    }
   ],
   "source": [
    "n = int(input(\"Dime un número entero positivo\"))\n",
    "for numero in range(0,n+1):\n",
    "    for num in range(numero):\n",
    "        print('*', end=\"\")\n",
    "    print()"
   ]
  },
  {
   "cell_type": "markdown",
   "metadata": {},
   "source": [
    "#### 13. Dado un texto, utiliza un bucle `for` para contar cuántas veces aparece cada palabra en el texto. Ignora mayúsculas/minúsculas y los signos de puntuación."
   ]
  },
  {
   "cell_type": "code",
   "execution_count": 2,
   "metadata": {},
   "outputs": [
    {
     "name": "stdout",
     "output_type": "stream",
     "text": [
      "{'Pepe': 1, 'tiene': 1, 'tres': 1, 'gatos:': 1, 'una': 1, 'gata': 2, 'negra,': 1, 'un': 1, 'gato': 1, 'a': 1, 'rayas': 1, 'y': 1, 'otra': 1, 'negra.': 1}\n"
     ]
    }
   ],
   "source": [
    "texto = input(\"Dame un texto para contar palabras\")\n",
    "# Separamos el texto por los espacios para convertirlo en una lista\n",
    "palabras_texto = texto.split()\n",
    "# Creamos una variable tipo diccionario para almacenar la palabra (clave) y el número de veces que aparece (valor)\n",
    "contador_palabras = {}\n",
    "# Iteramos por cada palabra de la lista, si ya aparece en el contador (tipo diccionario), se suma 1 al valor, si no aparecía, se añade con un valor de 1\n",
    "for palabra in palabras_texto:\n",
    "    if palabra in contador_palabras:\n",
    "        contador_palabras[palabra] += 1\n",
    "    else:\n",
    "        contador_palabras[palabra] = 1\n",
    "\n",
    "print(contador_palabras)"
   ]
  },
  {
   "cell_type": "markdown",
   "metadata": {},
   "source": [
    "#### 14. Escribe un programa que solicite al usuario dos números enteros positivos (`inicio` y `fin`, donde `inicio <= fin`) y luego calcule la suma de los números pares y la suma de los números impares en ese rango. Utiliza un bucle `for` para iterar sobre cada número y una estructura `if-else` para clasificar y sumar los números pares e impares."
   ]
  },
  {
   "cell_type": "code",
   "execution_count": 41,
   "metadata": {},
   "outputs": [
    {
     "name": "stdout",
     "output_type": "stream",
     "text": [
      "La suma de los números pares en el rango elegido es  2\n",
      "La suma de los números impares en el rango elegido es  4\n"
     ]
    }
   ],
   "source": [
    "inicio = int(input(\"Dime un número entero positivo\"))\n",
    "fin = int(input(\"Dime un número entero positivo mayor\"))\n",
    "suma_pares = 0\n",
    "suma_impares = 0\n",
    "for numero in range(inicio, fin+1):\n",
    "    if numero %2 ==0:\n",
    "        suma_pares +=numero\n",
    "    else:\n",
    "        suma_impares +=numero\n",
    "print(\"La suma de los números pares en el rango elegido es \", suma_pares)\n",
    "print(\"La suma de los números impares en el rango elegido es \", suma_impares)"
   ]
  },
  {
   "cell_type": "markdown",
   "metadata": {},
   "source": [
    "#### 15. Escribe un programa que solicite al usuario un número entero positivo (`n`) y luego identifique todos los números primos menores o iguales a `n`. Para cada número, imprime si es primo o no usando un bucle `for` y una estructura `if-else` para verificar la condición de primalidad."
   ]
  },
  {
   "cell_type": "code",
   "execution_count": null,
   "metadata": {},
   "outputs": [],
   "source": []
  },
  {
   "cell_type": "markdown",
   "metadata": {},
   "source": [
    "#### 16.Dada una lista de precios `[100, 200, 300, 400, 500]`, aplica un descuento del 10% a todos los precios mayores a `250`. Imprime la lista actualizada de precios después de aplicar el descuento utilizando un bucle `for`. "
   ]
  },
  {
   "cell_type": "code",
   "execution_count": 7,
   "metadata": {},
   "outputs": [
    {
     "name": "stdout",
     "output_type": "stream",
     "text": [
      "[100, 200, 270.0, 360.0, 450.0]\n"
     ]
    }
   ],
   "source": [
    "precios = [100, 200, 300, 400, 500]\n",
    "precios_actualizados =[]\n",
    "for precio in precios:\n",
    "    if precio >250:\n",
    "        precios_actualizados.append(precio*0.9)\n",
    "    else:\n",
    "        precios_actualizados.append(precio)\n",
    "print(precios_actualizados)"
   ]
  },
  {
   "cell_type": "markdown",
   "metadata": {},
   "source": [
    "#### 17. Dada una lista de calificaciones de estudiantes `[85, 92, 78, 90, 88]`, clasifica a cada estudiante como \"Aprobado\" si la calificación es mayor o igual a `80` y como \"Reprobado\" si es menor a `80`. Imprime el nombre de cada estudiante junto con su estado utilizando un bucle `for` y una estructura `if-else`.\n"
   ]
  },
  {
   "cell_type": "code",
   "execution_count": 8,
   "metadata": {},
   "outputs": [
    {
     "name": "stdout",
     "output_type": "stream",
     "text": [
      "85 = Aprobado\n",
      "92 = Aprobado\n",
      "78 = Reprobado\n",
      "90 = Aprobado\n",
      "88 = Aprobado\n"
     ]
    }
   ],
   "source": [
    "calificaciones = [85, 92, 78, 90, 88]\n",
    "for nota in calificaciones:\n",
    "    if nota < 80:\n",
    "        print(f\"{nota} = Reprobado\")\n",
    "    else:\n",
    "        print(f\"{nota} = Aprobado\")"
   ]
  },
  {
   "cell_type": "markdown",
   "metadata": {},
   "source": [
    "\n",
    "#### 18. Escribe un programa que solicite al usuario dos números enteros positivos (`inicio`, `fin`) y otro número entero positivo (`divisor`). Encuentra el número más grande en el rango desde `inicio` hasta `fin` que sea divisible por `divisor`. Utiliza un bucle `for` y una estructura `if-else` para verificar y mantener el registro del número más grande divisible por el divisor dado.\n"
   ]
  },
  {
   "cell_type": "markdown",
   "metadata": {},
   "source": []
  },
  {
   "cell_type": "code",
   "execution_count": 7,
   "metadata": {},
   "outputs": [
    {
     "name": "stdout",
     "output_type": "stream",
     "text": [
      "0 es divisible por 8\n",
      "1 no es divisible por 8\n",
      "2 no es divisible por 8\n",
      "3 no es divisible por 8\n",
      "4 no es divisible por 8\n",
      "5 no es divisible por 8\n",
      "6 no es divisible por 8\n",
      "7 no es divisible por 8\n",
      "8 es divisible por 8\n",
      "9 no es divisible por 8\n",
      "10 no es divisible por 8\n",
      "11 no es divisible por 8\n",
      "12 no es divisible por 8\n",
      "13 no es divisible por 8\n",
      "14 no es divisible por 8\n",
      "15 no es divisible por 8\n",
      "16 es divisible por 8\n",
      "17 no es divisible por 8\n",
      "18 no es divisible por 8\n",
      "19 no es divisible por 8\n",
      "20 no es divisible por 8\n",
      "21 no es divisible por 8\n",
      "22 no es divisible por 8\n",
      "23 no es divisible por 8\n",
      "24 es divisible por 8\n",
      "25 no es divisible por 8\n",
      "26 no es divisible por 8\n",
      "27 no es divisible por 8\n",
      "28 no es divisible por 8\n",
      "29 no es divisible por 8\n",
      "El número más grande en el rango 0-30 divisible por 8 es 24\n"
     ]
    }
   ],
   "source": [
    "inicio = int(input(\"Dame un número entero positivo\"))\n",
    "fin = int(input(\"Dame un número entero positivo mayor al anterior\"))\n",
    "divisor = int(input(\"Dame un número entero positivo que esté entre los dos anteriores\"))\n",
    "divisibles = []\n",
    "for numero in range(inicio, fin):\n",
    "    if numero %divisor ==0:\n",
    "        print(f\"{numero} es divisible por {divisor}\")\n",
    "        divisibles.append(numero)\n",
    "    else:\n",
    "        print (f\"{numero} no es divisible por {divisor}\")\n",
    "print(f\"El número más grande en el rango {inicio}-{fin} divisible por {divisor} es {max(divisibles)}\")"
   ]
  }
 ],
 "metadata": {
  "kernelspec": {
   "display_name": "hackio",
   "language": "python",
   "name": "python3"
  },
  "language_info": {
   "codemirror_mode": {
    "name": "ipython",
    "version": 3
   },
   "file_extension": ".py",
   "mimetype": "text/x-python",
   "name": "python",
   "nbconvert_exporter": "python",
   "pygments_lexer": "ipython3",
   "version": "3.12.4"
  }
 },
 "nbformat": 4,
 "nbformat_minor": 2
}
