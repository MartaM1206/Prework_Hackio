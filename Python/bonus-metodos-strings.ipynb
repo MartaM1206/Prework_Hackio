{
 "cells": [
  {
   "cell_type": "markdown",
   "metadata": {},
   "source": [
    "<div style=\"text-align: center;\">\n",
    "  <img src=\"https://github.com/Hack-io-Data/Imagenes/blob/main/01-LogosHackio/logo_celeste@4x.png?raw=true\" alt=\"esquema\" />\n",
    "</div>"
   ]
  },
  {
   "cell_type": "markdown",
   "metadata": {},
   "source": [
    "\n",
    "#### Genera un dicionario con los nombres, apellidos y empresas de la siguinete lista de correos. \n",
    "\n",
    "Te deberá quedar un diccionario parecido al que se muestra a continuación: \n",
    "\n",
    "![resultado](https://github.com/Hack-io-Data/Imagenes/blob/main/04-Prework/Python/diccionario-bonus-strings.png?raw=true)"
   ]
  },
  {
   "cell_type": "code",
   "execution_count": 59,
   "metadata": {},
   "outputs": [
    {
     "name": "stdout",
     "output_type": "stream",
     "text": [
      "['john', 'jane', 'jim', 'mary', 'bob', 'alice', 'tom', 'sally', 'jerry', 'beth', 'john', 'jane', 'jim', 'mary', 'bob']\n",
      "['doe', 'doe', 'smith', 'jane', 'jones', 'smith', 'jones', 'jones', 'smith', 'jones', 'smith', 'doe', 'jones', 'smith', 'doe']\n",
      "['tecnologiainnovadora', 'empresatecnologica', 'solucionesdigitales', 'tecnologiapionera', 'innovaciontecnologica', 'desarrollotecnologico', 'tecnologiadinamica', 'tecnologiamoderna', 'solucionestech', 'tecnologiavanguardista', 'tecnologiasavanzadas', 'empresadigital', 'tecnologiadinamica', 'innovaciondigital', 'solucionesinformaticas']\n",
      "{'nombre': ['john', 'jane', 'jim', 'mary', 'bob', 'alice', 'tom', 'sally', 'jerry', 'beth', 'john', 'jane', 'jim', 'mary', 'bob'], 'apellido': ['doe', 'doe', 'smith', 'jane', 'jones', 'smith', 'jones', 'jones', 'smith', 'jones', 'smith', 'doe', 'jones', 'smith', 'doe'], 'empresa': ['tecnologiainnovadora', 'empresatecnologica', 'solucionesdigitales', 'tecnologiapionera', 'innovaciontecnologica', 'desarrollotecnologico', 'tecnologiadinamica', 'tecnologiamoderna', 'solucionestech', 'tecnologiavanguardista', 'tecnologiasavanzadas', 'empresadigital', 'tecnologiadinamica', 'innovaciondigital', 'solucionesinformaticas']}\n"
     ]
    }
   ],
   "source": [
    "a = \"\"\"john.doe@tecnologiainnovadora.com\n",
    "jane.doe@empresatecnologica.com\n",
    "jim.smith@solucionesdigitales.com\n",
    "mary.jane@tecnologiapionera.com\n",
    "bob.jones@innovaciontecnologica.com\n",
    "alice.smith@desarrollotecnologico.com\n",
    "tom.jones@tecnologiadinamica.com\n",
    "sally.jones@tecnologiamoderna.com\n",
    "jerry.smith@solucionestech.com\n",
    "beth.jones@tecnologiavanguardista.com\n",
    "john.smith@tecnologiasavanzadas.com\n",
    "jane.doe@empresadigital.com\n",
    "jim.jones@tecnologiadinamica.com\n",
    "mary.smith@innovaciondigital.com\n",
    "bob.doe@solucionesinformaticas.com\n",
    "\"\"\"\n",
    "# Quitamos el \".com\" en un nuevo string\n",
    "a2 = a.replace(\".com\",\"\")\n",
    "\n",
    "# Cremos un nuevo string reemplanzado la @ por un punto\n",
    "a3 = a2.replace(\"@\",\".\")\n",
    "\n",
    "# Reemplazamos también el salto de línea con un punto\n",
    "a4 = a3.replace(\"\\n\",\".\")\n",
    "\n",
    "# Creamos una lista separando por los puntos\n",
    "lista_emails = a4.split(\".\")\n",
    "#Como el último salto de línea ha causado un elemento vacío, lo eliminamos\n",
    "lista_emails.pop()\n",
    "\n",
    "# Sacamos las listas de nombres, apellidos y empresas\n",
    "lista_nombres = lista_emails[::3]\n",
    "print(lista_nombres)\n",
    "lista_apellidos = lista_emails[1::3]\n",
    "print(lista_apellidos) \n",
    "lista_empresas = lista_emails[2::3]\n",
    "print(lista_empresas) \n",
    "\n",
    "# Creamos el diccionario\n",
    "diccionario = {\"nombre\": lista_nombres, \"apellido\": lista_apellidos, \"empresa\": lista_empresas}\n",
    "print(diccionario)\n",
    "\n"
   ]
  }
 ],
 "metadata": {
  "kernelspec": {
   "display_name": "hackio",
   "language": "python",
   "name": "python3"
  },
  "language_info": {
   "codemirror_mode": {
    "name": "ipython",
    "version": 3
   },
   "file_extension": ".py",
   "mimetype": "text/x-python",
   "name": "python",
   "nbconvert_exporter": "python",
   "pygments_lexer": "ipython3",
   "version": "3.12.4"
  }
 },
 "nbformat": 4,
 "nbformat_minor": 2
}
